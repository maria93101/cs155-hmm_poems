{
 "cells": [
  {
   "cell_type": "code",
   "execution_count": 1,
   "metadata": {},
   "outputs": [],
   "source": [
    "import nltk\n",
    "import string\n",
    "from HMM import supervised_HMM, unsupervised_HMM, HiddenMarkovModel\n",
    "import re"
   ]
  },
  {
   "cell_type": "code",
   "execution_count": 2,
   "metadata": {},
   "outputs": [],
   "source": [
    "def load_poems(filename):\n",
    "    \n",
    "    lines = [] # 2d dictionary, each array is a split + cleaned line\n",
    "    words = {} # dictionary of a word, and its frequency\n",
    "    \n",
    "    file = open(filename, 'r')\n",
    "    \n",
    "    for line in file:\n",
    "        line = line.strip()\n",
    "        if  len(line) < 10:\n",
    "            # Too short to be a valid line\n",
    "            continue\n",
    "        line = \"\".join(l for l in line if l not in string.punctuation)\n",
    "        line = line.lower()\n",
    "        line = line.split()\n",
    "        \n",
    "        lines.append(line)\n",
    "\n",
    "        for word in line:\n",
    "            try:\n",
    "                # add to frequency if the word is already in the dic\n",
    "                words[word] += 1\n",
    "            except KeyError:\n",
    "                # if not, add the word to the dic\n",
    "                words[word] = 1\n",
    "    return lines, words"
   ]
  },
  {
   "cell_type": "code",
   "execution_count": 3,
   "metadata": {},
   "outputs": [],
   "source": [
    "file = \"data/shakespeare.txt\"\n",
    "lines, words = load_poems(file)"
   ]
  },
  {
   "cell_type": "code",
   "execution_count": 4,
   "metadata": {},
   "outputs": [
    {
     "data": {
      "text/plain": [
       "['from', 'fairest', 'creatures', 'we', 'desire', 'increase']"
      ]
     },
     "execution_count": 4,
     "metadata": {},
     "output_type": "execute_result"
    }
   ],
   "source": [
    "lines[0]"
   ]
  },
  {
   "cell_type": "code",
   "execution_count": 5,
   "metadata": {},
   "outputs": [],
   "source": [
    "def unsupervised_learning(lines, n_states, n_iters):\n",
    "    '''\n",
    "    n_iters: Number of iterations we should go through.\n",
    "    n_states: Number of hidden states our HMM should have.\n",
    "    '''\n",
    "    # Train the HMM.\n",
    "    obs, obs_map =  parse_observations(lines)\n",
    "    flat_lines = [[item] for sublist in lines for item in sublist]\n",
    "    leHMM = unsupervised_HMM(obs, n_states, n_iters)\n",
    "    return leHMM, obs,obs_map \n",
    "    "
   ]
  },
  {
   "cell_type": "code",
   "execution_count": 6,
   "metadata": {},
   "outputs": [],
   "source": [
    "def obs_map_reverser(obs_map):\n",
    "    obs_map_r = {}\n",
    "\n",
    "    for key in obs_map:\n",
    "        obs_map_r[obs_map[key]] = key\n",
    "\n",
    "    return obs_map_r"
   ]
  },
  {
   "cell_type": "code",
   "execution_count": 7,
   "metadata": {},
   "outputs": [],
   "source": [
    "def parse_observations(lines):\n",
    "\n",
    "    obs_counter = 0\n",
    "    obs = []\n",
    "    obs_map = {}\n",
    "\n",
    "    for line in lines:\n",
    "        obs_elem = []\n",
    "\n",
    "        for word in line:\n",
    "            word = re.sub(r'[^\\w]', '', word).lower()\n",
    "            if word not in obs_map:\n",
    "                # Add unique words to the observations map.\n",
    "                obs_map[word] = obs_counter\n",
    "                obs_counter += 1\n",
    "\n",
    "            # Add the encoded word.\n",
    "            obs_elem.append(obs_map[word])\n",
    "\n",
    "        # Add the encoded sequence.\n",
    "        obs.append(obs_elem)\n",
    "\n",
    "    return obs, obs_map"
   ]
  },
  {
   "cell_type": "code",
   "execution_count": 8,
   "metadata": {},
   "outputs": [],
   "source": [
    "obs, obs_map = parse_observations(lines)"
   ]
  },
  {
   "cell_type": "code",
   "execution_count": 9,
   "metadata": {},
   "outputs": [],
   "source": [
    "# get syllable info from syllable_dictionary.txt\n",
    "def load_syllables(filename):\n",
    "    file = open(filename, 'r')\n",
    "    syllable = {}\n",
    "    for line in file:\n",
    "        line = line.split()\n",
    "        #print(line)\n",
    "        word = line[0]\n",
    "        rest = line[1: len(line)]\n",
    "\n",
    "        syllable[word] = rest\n",
    "    return syllable"
   ]
  },
  {
   "cell_type": "code",
   "execution_count": 10,
   "metadata": {},
   "outputs": [],
   "source": [
    "filename = \"data/Syllable_dictionary.txt\"\n",
    "syllable = load_syllables(filename)"
   ]
  },
  {
   "cell_type": "code",
   "execution_count": 11,
   "metadata": {},
   "outputs": [],
   "source": [
    "def save_HMM(hmmmmmm, filename):\n",
    "    \n",
    "    with open(filename+\".txt\", \"w+\") as filept:\n",
    "        filept.write(str(hmmmmmm.L)+\"\\n\")\n",
    "        filept.write(str(hmmmmmm.D)+\"\\n\")\n",
    "        for i in hmmmmmm.A:\n",
    "            line = \"\"\n",
    "            for j in i:\n",
    "                line += str(j) + \",\"\n",
    "            filept.write(line[:len(line)-1]+\"\\n\")\n",
    "        for i in hmmmmmm.O:\n",
    "            line = \"\"\n",
    "            for j in i:\n",
    "                line += str(j) + \",\"\n",
    "            filept.write(line[:len(line)-1]+\"\\n\")\n",
    "        \n",
    "\n",
    "def read_HMM(filename):\n",
    "    with open(filename+\".txt\", \"r\") as filept:\n",
    "        L = int(filept.readline())\n",
    "        D = int(filept.readline())\n",
    "        O = []\n",
    "        A = []\n",
    "        for i in range(L):\n",
    "            line = [float(x) for x in filept.readline().split(\",\")]\n",
    "            A.append(line)\n",
    "        for j in range(L):\n",
    "            line = [float(x) for x in filept.readline().split(\",\")]\n",
    "            O.append(line)\n",
    "    return HiddenMarkovModel(A, O)"
   ]
  },
  {
   "cell_type": "code",
   "execution_count": 12,
   "metadata": {},
   "outputs": [],
   "source": [
    "testHMM40 = read_HMM(\"40-iter-8-hidden-hmm\")"
   ]
  },
  {
   "cell_type": "code",
   "execution_count": 13,
   "metadata": {},
   "outputs": [],
   "source": [
    "obs_map_r = obs_map_reverser(obs_map)"
   ]
  },
  {
   "cell_type": "code",
   "execution_count": 14,
   "metadata": {},
   "outputs": [
    {
     "name": "stdout",
     "output_type": "stream",
     "text": [
      "Be and for ten bring all hast have my makes\n",
      "On part shall the of frame thy with change thou\n",
      "O but strange are my face state the my rose\n",
      "Than to no say all have is woe grow let\n",
      "The the that first on mightier canker hide\n",
      "Line i and stole thou is worth would show woe\n",
      "I father what like seeing is be may\n",
      "Thy eyes to of changing rose for glance to\n",
      "As bosom yore deserved wights pleasure graces\n",
      "They far i i shows bad antique i be\n",
      "Heart purpose from for my name from bright full\n",
      "Place believe not a general are and my\n",
      "For o hand it nor or o mind owes so\n",
      "Resembling how he more grace born where that\n"
     ]
    }
   ],
   "source": [
    "for i in range(14): # each poem is 14 lines long\n",
    "    emission = testHMM40.generate_emission_syllables(10, obs_map_r, syllable) # each line is 10 words long\n",
    "    sentence = [obs_map_r[i] for i in emission[0]]\n",
    "\n",
    "    print(' '.join(sentence).capitalize())"
   ]
  },
  {
   "cell_type": "code",
   "execution_count": 15,
   "metadata": {},
   "outputs": [
    {
     "name": "stdout",
     "output_type": "stream",
     "text": [
      "Sea mine past are ere seem wights user his\n",
      "It for did sovereign hours my day now both\n",
      "Back thou credit a more record wealth deaths\n",
      "Your of this thou as else as gracious\n",
      "I antiquity my you addition\n",
      "Of my thou a treasure to a to his\n",
      "Unbless true true it it thee my sweets well\n",
      "Forbear when although that by black thou doth\n",
      "We store better most my love love public\n",
      "Face or thee and heals critic confined which\n",
      "Under be fair well by holds being see so\n",
      "My then in cost or you true me of his\n",
      "Thy with that none sheds informer map which\n",
      "Single for the of with i self shall hot\n"
     ]
    }
   ],
   "source": [
    "for i in range(14): # each poem is 14 lines long\n",
    "    emission = testHMM40.generate_emission_syllables_other(10, obs_map_r, syllable) # each line is 10 words long\n",
    "    sentence = [obs_map_r[i] for i in emission[0]]\n",
    "\n",
    "    print(' '.join(sentence).capitalize())"
   ]
  },
  {
   "cell_type": "code",
   "execution_count": 16,
   "metadata": {},
   "outputs": [
    {
     "name": "stdout",
     "output_type": "stream",
     "text": [
      "Sleep i in with of the confounds times from\n",
      "Of he do true things augurs bars and brought\n",
      "Thy alone wanting make profaned from this\n",
      "No a kill of is the am thereof thee\n",
      "The often titles flower inward self thy\n",
      "Hath art i truth the those have praise razed self\n",
      "On and doing but have seen famished his\n",
      "Gilding left his this proud you home of thou\n",
      "Wrong right hours vowing of this be yet come\n",
      "Nor born overturn she threw a by that\n",
      "Others forth doth centre nor work that eye\n",
      "Odour strikes paying the to the death or\n",
      "As against my proud it self scythe to for\n",
      "Low as half sheaves not gone to fester would\n"
     ]
    }
   ],
   "source": [
    "for i in range(14): # each poem is 14 lines long\n",
    "    emission = testHMM40.generate_emission_syllables_correct(10, obs_map_r, syllable) # each line is 10 words long\n",
    "    sentence = [obs_map_r[i] for i in emission[0]]\n",
    "\n",
    "    print(' '.join(sentence).capitalize())"
   ]
  },
  {
   "cell_type": "code",
   "execution_count": null,
   "metadata": {},
   "outputs": [],
   "source": []
  }
 ],
 "metadata": {
  "kernelspec": {
   "display_name": "Python 3",
   "language": "python",
   "name": "python3"
  },
  "language_info": {
   "codemirror_mode": {
    "name": "ipython",
    "version": 3
   },
   "file_extension": ".py",
   "mimetype": "text/x-python",
   "name": "python",
   "nbconvert_exporter": "python",
   "pygments_lexer": "ipython3",
   "version": "3.7.1"
  }
 },
 "nbformat": 4,
 "nbformat_minor": 2
}
